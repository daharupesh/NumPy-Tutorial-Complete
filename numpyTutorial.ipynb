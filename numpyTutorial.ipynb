{
 "cells": [
  {
   "cell_type": "markdown",
   "metadata": {},
   "source": [
    "# What is Numpy?\n",
    "- It is library that has collections of packages and methods\n"
   ]
  },
  {
   "cell_type": "markdown",
   "metadata": {},
   "source": [
    "Numpy has the array data types which is used to perform the various operation"
   ]
  },
  {
   "cell_type": "markdown",
   "metadata": {},
   "source": [
    "NumPy, short for Numerical Python, is a fundamental library for scientific computing in Python. It provides support for large multidimensional arrays and matrices, along with a collection of mathematical functions to operate on these arrays. Here's a detailed overview of its importance:\n",
    "\n",
    "### 1. **Efficient Handling of Large Datasets:**\n",
    "   - **Multidimensional Arrays:** NumPy introduces the `ndarray` (N-dimensional array) object, which is far more efficient than Python’s native lists for handling large datasets. These arrays can have any number of dimensions and allow for fast access and manipulation of data.\n",
    "   - **Memory Efficiency:** NumPy arrays consume less memory than equivalent data structures in pure Python, making it possible to work with large datasets that would otherwise be infeasible.\n",
    "\n",
    "### 2. **Performance:**\n",
    "   - **Vectorization:** NumPy allows for vectorized operations, which are operations performed element-wise on arrays without the need for explicit loops. This leads to significant performance improvements, as operations are implemented in compiled C code, reducing the overhead of Python loops.\n",
    "   - **Broadcasting:** NumPy's broadcasting feature allows operations to be performed on arrays of different shapes, automatically expanding them to be compatible. This reduces the need for manual reshaping and enhances code performance and readability.\n",
    "\n",
    "### 3. **Mathematical and Statistical Functions:**\n",
    "   - NumPy includes a wide range of mathematical functions that can be applied to arrays. This includes basic arithmetic, trigonometric functions, linear algebra, and statistical operations.\n",
    "   - **Random Number Generation:** It has robust tools for generating random numbers, which are essential for simulations and probabilistic models.\n",
    "\n",
    "### 4. **Interoperability with Other Libraries:**\n",
    "   - **Pandas:** NumPy arrays are the underlying structure for Pandas, a powerful library for data manipulation and analysis.\n",
    "   - **SciPy, Scikit-learn, TensorFlow, PyTorch:** Many scientific and machine learning libraries in Python are built on top of NumPy arrays. Understanding NumPy is essential for effectively using these libraries.\n",
    "   - **Integration with C/C++ and Fortran:** NumPy arrays can be passed directly to code written in C, C++, or Fortran, enabling high-performance integrations.\n",
    "\n",
    "### 5. **Data Science and Machine Learning:**\n",
    "   - **Foundation for Machine Learning:** NumPy is crucial in the data preprocessing, feature extraction, and manipulation stages, making it foundational for any machine learning pipeline.\n",
    "   - **Handling Time Series Data:** With efficient operations on arrays and integration with Pandas, NumPy plays a critical role in analyzing time-series data, a common task in data science.\n",
    "\n",
    "### 6. **Support for Complex Mathematical Operations:**\n",
    "   - **Linear Algebra and Fourier Transforms:** NumPy provides built-in functions for linear algebra operations (e.g., matrix multiplication, eigenvalue decomposition) and Fourier transforms, which are essential for many scientific and engineering applications.\n",
    "   - **Polynomials and Random Numbers:** It offers modules for working with polynomials and generating random numbers, which are critical for simulations.\n",
    "\n",
    "### 7. **Ease of Use and Flexibility:**\n",
    "   - **Simple Syntax:** The syntax for performing operations with NumPy is concise and similar to mathematical notation, making it accessible for users transitioning from other languages like MATLAB.\n",
    "   - **Custom Data Types:** NumPy allows the definition of custom data types, making it flexible to handle specialized needs.\n",
    "\n",
    "### 8. **Data Analytics and Visualization:**\n",
    "   - **Interfacing with Visualization Libraries:** NumPy works seamlessly with visualization libraries like Matplotlib, enabling the efficient generation of graphs and plots from large datasets.\n",
    "\n",
    "### 9. **Cross-Platform Compatibility:**\n",
    "   - NumPy code is portable across different platforms and operating systems, ensuring that scientific and numerical code written in Python can run anywhere with consistent behavior.\n",
    "\n",
    "### 10. **Open Source and Active Community:**\n",
    "   - Being open-source, NumPy is constantly evolving with contributions from a large community of developers and researchers. This ensures that it remains up-to-date with the latest advancements in scientific computing.\n",
    "\n",
    "In summary, NumPy is indispensable in the scientific computing ecosystem, offering efficient and flexible tools for handling and processing large datasets, performing complex mathematical operations, and serving as a foundation for many higher-level data science and machine learning frameworks."
   ]
  },
  {
   "cell_type": "markdown",
   "metadata": {},
   "source": [
    "### Difference Between Numpy Array and List in python"
   ]
  },
  {
   "cell_type": "markdown",
   "metadata": {},
   "source": [
    "- Data types storage\n",
    "- Importing module\n",
    "- Numerical Operation \n",
    "- Modification capabilities\n",
    "- Consumes less memory\n",
    "- fast as compared to the python list\n",
    "- convenient to use"
   ]
  },
  {
   "cell_type": "code",
   "execution_count": 8,
   "metadata": {},
   "outputs": [
    {
     "name": "stdout",
     "output_type": "stream",
     "text": [
      "695 ns ± 38.3 ns per loop (mean ± std. dev. of 7 runs, 1,000,000 loops each)\n"
     ]
    }
   ],
   "source": [
    "# % time it\n",
    "# %% timeit \n",
    "\n",
    "%timeit [j**4 for j in range(1,9)]"
   ]
  },
  {
   "cell_type": "code",
   "execution_count": 9,
   "metadata": {},
   "outputs": [
    {
     "name": "stdout",
     "output_type": "stream",
     "text": [
      "582 ns ± 26.3 ns per loop (mean ± std. dev. of 7 runs, 1,000,000 loops each)\n"
     ]
    }
   ],
   "source": [
    "import numpy as np\n",
    "\n",
    "%timeit np.arange(1,9)"
   ]
  },
  {
   "cell_type": "code",
   "execution_count": 21,
   "metadata": {},
   "outputs": [
    {
     "data": {
      "text/plain": [
       "1"
      ]
     },
     "execution_count": 21,
     "metadata": {},
     "output_type": "execute_result"
    }
   ],
   "source": [
    "# Creating Numpy Array\n",
    "\n",
    "import numpy as np\n",
    "x = [1,3,4]\n",
    "a = np.array(x)\n",
    "a.ndim"
   ]
  },
  {
   "cell_type": "code",
   "execution_count": 16,
   "metadata": {},
   "outputs": [],
   "source": [
    "b = np.array([3,4,5,6])"
   ]
  },
  {
   "cell_type": "code",
   "execution_count": 17,
   "metadata": {},
   "outputs": [
    {
     "name": "stdout",
     "output_type": "stream",
     "text": [
      "<class 'numpy.ndarray'>\n"
     ]
    }
   ],
   "source": [
    "print(type(a))"
   ]
  },
  {
   "cell_type": "code",
   "execution_count": 18,
   "metadata": {},
   "outputs": [
    {
     "name": "stdout",
     "output_type": "stream",
     "text": [
      "<class 'list'>\n"
     ]
    }
   ],
   "source": [
    "print(type(x))"
   ]
  },
  {
   "cell_type": "code",
   "execution_count": 19,
   "metadata": {},
   "outputs": [
    {
     "name": "stdout",
     "output_type": "stream",
     "text": [
      "[2 3 6 8]\n"
     ]
    }
   ],
   "source": [
    "l = []\n",
    "for i in range(1,5):\n",
    "    int_l = int(input(\"Enter: \"))\n",
    "    l.append(int_l)\n",
    "\n",
    "\n",
    "print(np.array(l))"
   ]
  },
  {
   "cell_type": "markdown",
   "metadata": {},
   "source": [
    "Types of Arrays in Numpy\n",
    "- 1-D Arrays\n",
    "- 2-D Arrays\n",
    "- 3-D Arrays\n",
    "- Higher Dimensional Arrays\n"
   ]
  },
  {
   "cell_type": "code",
   "execution_count": 20,
   "metadata": {},
   "outputs": [],
   "source": [
    "# ndim used to check the dimension"
   ]
  },
  {
   "cell_type": "code",
   "execution_count": 22,
   "metadata": {},
   "outputs": [
    {
     "name": "stdout",
     "output_type": "stream",
     "text": [
      "[4 5 5 5]\n"
     ]
    }
   ],
   "source": [
    "l = []\n",
    "for i in range(1,5):\n",
    "    int_l = int(input(\"Enter: \"))\n",
    "    l.append(int_l)\n",
    "\n",
    "\n",
    "print(np.array(l))"
   ]
  },
  {
   "cell_type": "code",
   "execution_count": 24,
   "metadata": {},
   "outputs": [
    {
     "name": "stdout",
     "output_type": "stream",
     "text": [
      "[[1 2 3 4]\n",
      " [1 3 3 4]]\n",
      "2\n"
     ]
    }
   ],
   "source": [
    "# 2 D Dimension\n",
    "\n",
    "arr2 = np.array([[1,2,3,4],[1,3,3,4]])\n",
    "print(arr2)\n",
    "print(arr2.ndim)"
   ]
  },
  {
   "cell_type": "code",
   "execution_count": 29,
   "metadata": {},
   "outputs": [],
   "source": [
    "arr3 = np.array([[[1,2,3,4],[1,2,3,4],[1,2,3,4]]])"
   ]
  },
  {
   "cell_type": "code",
   "execution_count": 32,
   "metadata": {},
   "outputs": [
    {
     "name": "stdout",
     "output_type": "stream",
     "text": [
      "[[[1 2 3 4]\n",
      "  [1 2 3 4]\n",
      "  [1 2 3 4]]]\n",
      "3\n",
      "12\n"
     ]
    }
   ],
   "source": [
    "print(arr3)\n",
    "print(arr3.ndim)\n",
    "print(arr3.size)"
   ]
  },
  {
   "cell_type": "code",
   "execution_count": 33,
   "metadata": {},
   "outputs": [],
   "source": [
    "arr3 = np.array([[[1,2,3,4],[1,2,3,4],[3,4,5,6]]])"
   ]
  },
  {
   "cell_type": "code",
   "execution_count": 34,
   "metadata": {},
   "outputs": [
    {
     "name": "stdout",
     "output_type": "stream",
     "text": [
      "[[[1 2 3 4]\n",
      "  [1 2 3 4]\n",
      "  [3 4 5 6]]]\n"
     ]
    }
   ],
   "source": [
    "print(arr3)"
   ]
  },
  {
   "cell_type": "code",
   "execution_count": 35,
   "metadata": {},
   "outputs": [
    {
     "data": {
      "text/plain": [
       "3"
      ]
     },
     "execution_count": 35,
     "metadata": {},
     "output_type": "execute_result"
    }
   ],
   "source": [
    "arr3.ndim"
   ]
  },
  {
   "cell_type": "code",
   "execution_count": 36,
   "metadata": {},
   "outputs": [
    {
     "data": {
      "text/plain": [
       "(1, 3, 4)"
      ]
     },
     "execution_count": 36,
     "metadata": {},
     "output_type": "execute_result"
    }
   ],
   "source": [
    "arr3.shape"
   ]
  },
  {
   "cell_type": "code",
   "execution_count": 37,
   "metadata": {},
   "outputs": [
    {
     "name": "stdout",
     "output_type": "stream",
     "text": [
      "[[[[[[[[[[1 2 3 4]]]]]]]]]]\n",
      "10\n"
     ]
    }
   ],
   "source": [
    "arr1 = np.array([1,2,3,4] , ndmin=10)\n",
    "print(arr1)\n",
    "print(arr1.ndim)"
   ]
  },
  {
   "cell_type": "markdown",
   "metadata": {},
   "source": []
  },
  {
   "cell_type": "markdown",
   "metadata": {},
   "source": [
    "Create NumPy Array Using Function.."
   ]
  },
  {
   "cell_type": "markdown",
   "metadata": {},
   "source": [
    "- Array Filled with 0's\n",
    "- Array Filled with 1's\n",
    "- Create an empty array\n",
    "- An Array with a range of elements\n",
    "- Array diagonal element filled with 1's\n",
    "- Create an array with values that are spaced linearly in a specified interval"
   ]
  },
  {
   "cell_type": "code",
   "execution_count": 41,
   "metadata": {},
   "outputs": [
    {
     "name": "stdout",
     "output_type": "stream",
     "text": [
      "[0. 0. 0. 0.]\n",
      "\n",
      "[[0. 0. 0. 0.]\n",
      " [0. 0. 0. 0.]\n",
      " [0. 0. 0. 0.]]\n"
     ]
    }
   ],
   "source": [
    "# Filled with 0's \n",
    "import numpy as np\n",
    "ar_zero = np.zeros(4)\n",
    "ar_zero1 = np.zeros((3,4))\n",
    "print(ar_zero)\n",
    "print()\n",
    "print(ar_zero1)"
   ]
  },
  {
   "cell_type": "code",
   "execution_count": 44,
   "metadata": {},
   "outputs": [
    {
     "name": "stdout",
     "output_type": "stream",
     "text": [
      "[1. 1. 1. 1. 1.]\n",
      "\n",
      "[[1. 1. 1. 1. 1. 1.]\n",
      " [1. 1. 1. 1. 1. 1.]\n",
      " [1. 1. 1. 1. 1. 1.]\n",
      " [1. 1. 1. 1. 1. 1.]\n",
      " [1. 1. 1. 1. 1. 1.]]\n"
     ]
    }
   ],
   "source": [
    "Ones = np.ones(5)\n",
    "Ones1 = np.ones((5,6))\n",
    "print(Ones)\n",
    "print()\n",
    "print(Ones1)"
   ]
  },
  {
   "cell_type": "code",
   "execution_count": 45,
   "metadata": {},
   "outputs": [
    {
     "name": "stdout",
     "output_type": "stream",
     "text": [
      "[0. 0. 0. 0.]\n"
     ]
    }
   ],
   "source": [
    "# Empty array\n",
    "ar_em = np.empty(4)\n",
    "print(ar_em)"
   ]
  },
  {
   "cell_type": "code",
   "execution_count": 53,
   "metadata": {},
   "outputs": [
    {
     "name": "stdout",
     "output_type": "stream",
     "text": [
      "[0 1 2 3 4 5 6 7 8 9]\n",
      "\n",
      "[[0 1 2 3 4]\n",
      " [5 6 7 8 9]]\n"
     ]
    }
   ],
   "source": [
    "# Range Array\n",
    "ar_rn = np.arange(10)\n",
    "print(ar_rn)\n",
    "print()\n",
    "after_reshape = ar_rn.reshape(2,5)\n",
    "print(after_reshape)"
   ]
  },
  {
   "cell_type": "code",
   "execution_count": 56,
   "metadata": {},
   "outputs": [
    {
     "name": "stdout",
     "output_type": "stream",
     "text": [
      "[[1. 0. 0.]\n",
      " [0. 1. 0.]\n",
      " [0. 0. 1.]]\n"
     ]
    }
   ],
   "source": [
    "# identity matrix Diagonal element filled by 1\n",
    "ar_dia = np.eye(3,3)\n",
    "print(ar_dia)"
   ]
  },
  {
   "cell_type": "code",
   "execution_count": 57,
   "metadata": {},
   "outputs": [
    {
     "name": "stdout",
     "output_type": "stream",
     "text": [
      "[[1. 0. 0.]\n",
      " [0. 1. 0.]\n",
      " [0. 0. 1.]\n",
      " [0. 0. 0.]]\n"
     ]
    }
   ],
   "source": [
    "# identity matrix Diagonal element filled by 1\n",
    "ar_dia = np.eye(4,3)\n",
    "print(ar_dia)"
   ]
  },
  {
   "cell_type": "code",
   "execution_count": 66,
   "metadata": {},
   "outputs": [],
   "source": [
    "# Line Space Function \n",
    "\n",
    "ar_lin = np.linspace(1,10 , num = 5,dtype=float) # 5 element will created with between 1 to 10 with specific space.\n"
   ]
  },
  {
   "cell_type": "code",
   "execution_count": 67,
   "metadata": {},
   "outputs": [
    {
     "name": "stdout",
     "output_type": "stream",
     "text": [
      "[ 1.    3.25  5.5   7.75 10.  ]\n"
     ]
    }
   ],
   "source": [
    "print(ar_lin)"
   ]
  },
  {
   "cell_type": "code",
   "execution_count": 68,
   "metadata": {},
   "outputs": [],
   "source": [
    "# Line Space Function \n",
    "\n",
    "ar_lin = np.linspace(1,10 , num = 5,dtype=int) # 5 element will created with between 1 to 10 with specific space.\n"
   ]
  },
  {
   "cell_type": "code",
   "execution_count": 69,
   "metadata": {},
   "outputs": [
    {
     "name": "stdout",
     "output_type": "stream",
     "text": [
      "[ 1  3  5  7 10]\n"
     ]
    }
   ],
   "source": [
    "print(ar_lin)"
   ]
  },
  {
   "cell_type": "markdown",
   "metadata": {},
   "source": [
    "# Create NumPy Arrays with Random Numbers"
   ]
  },
  {
   "cell_type": "markdown",
   "metadata": {},
   "source": [
    "- rand() : the function is used to generate a random value between 0 to 1\n",
    "- randn() : the function is used to generate a random value close to zero this may return positive or negative numbers as well.\n",
    "- ranf() : the function for doing random sampling in numPy. It returns an array of specified shape and fills it with random floats in the half-open interval [0.0 , 1.0)\n",
    "- randint() : the function used to generate a random number between an given range."
   ]
  },
  {
   "cell_type": "code",
   "execution_count": 70,
   "metadata": {},
   "outputs": [
    {
     "name": "stdout",
     "output_type": "stream",
     "text": [
      "[0.63625354 0.04629816 0.2562914  0.17531649]\n"
     ]
    }
   ],
   "source": [
    "# random\n",
    "import numpy as np\n",
    "var = np.random.rand(4) # value between 0 to 1 , 4 is the size\n",
    "\n",
    "print(var)\n",
    "\n",
    "\n"
   ]
  },
  {
   "cell_type": "code",
   "execution_count": 72,
   "metadata": {},
   "outputs": [],
   "source": [
    "var1 = np.random.rand(4,5)"
   ]
  },
  {
   "cell_type": "code",
   "execution_count": 73,
   "metadata": {},
   "outputs": [
    {
     "name": "stdout",
     "output_type": "stream",
     "text": [
      "[[0.16879684 0.63818387 0.64403717 0.62991049 0.86002572]\n",
      " [0.32898639 0.39707117 0.43685489 0.19966162 0.94072321]\n",
      " [0.63823507 0.72337401 0.448664   0.11075313 0.67746769]\n",
      " [0.74891417 0.19748612 0.0332865  0.53410941 0.07356062]]\n"
     ]
    }
   ],
   "source": [
    "print(var1)"
   ]
  },
  {
   "cell_type": "code",
   "execution_count": 74,
   "metadata": {},
   "outputs": [],
   "source": [
    "# RandN\n",
    "var2 = np.random.randn(5) # randn value (-1 , 1) -> open interval does not include the end point"
   ]
  },
  {
   "cell_type": "code",
   "execution_count": 75,
   "metadata": {},
   "outputs": [
    {
     "name": "stdout",
     "output_type": "stream",
     "text": [
      "[-0.25903484  0.04074483 -0.52276108 -0.03941722 -0.22073312]\n"
     ]
    }
   ],
   "source": [
    "print(var2)"
   ]
  },
  {
   "cell_type": "code",
   "execution_count": 76,
   "metadata": {},
   "outputs": [],
   "source": [
    "var2 = np.random.randn(5,5)"
   ]
  },
  {
   "cell_type": "code",
   "execution_count": 77,
   "metadata": {},
   "outputs": [
    {
     "name": "stdout",
     "output_type": "stream",
     "text": [
      "[[ 0.61273992 -0.32754689 -0.68672583 -0.51878124 -1.40023091]\n",
      " [-0.10527329 -0.98873799  2.30126768 -0.80178423 -0.40463877]\n",
      " [-1.12382636 -0.03155289  0.93090087 -0.47199998  0.60693552]\n",
      " [-0.28195866  0.78312087 -0.26796194  0.28790246 -0.01534798]\n",
      " [-1.31376897 -0.73805798 -1.2146811   0.74628631  0.28948621]]\n"
     ]
    }
   ],
   "source": [
    "print(var2)"
   ]
  },
  {
   "cell_type": "code",
   "execution_count": 78,
   "metadata": {},
   "outputs": [
    {
     "name": "stdout",
     "output_type": "stream",
     "text": [
      "[0.8491616  0.85022215 0.43655161 0.23988266]\n"
     ]
    }
   ],
   "source": [
    "# randf()\n",
    "var3 = np.random.ranf(4) # [0.0 , 1.1)\n",
    "print(var3)"
   ]
  },
  {
   "cell_type": "code",
   "execution_count": null,
   "metadata": {},
   "outputs": [],
   "source": [
    "# Mean while we can reshape the array and can convert into the different dimension"
   ]
  },
  {
   "cell_type": "code",
   "execution_count": 89,
   "metadata": {},
   "outputs": [],
   "source": [
    "# randint()\n",
    "var4 = np.random.randint(1,10, size=(2,4))"
   ]
  },
  {
   "cell_type": "code",
   "execution_count": 90,
   "metadata": {},
   "outputs": [
    {
     "name": "stdout",
     "output_type": "stream",
     "text": [
      "[[7 1 3 5]\n",
      " [5 5 2 4]]\n"
     ]
    }
   ],
   "source": [
    "print(var4)"
   ]
  },
  {
   "cell_type": "code",
   "execution_count": 85,
   "metadata": {},
   "outputs": [
    {
     "data": {
      "text/plain": [
       "(5,)"
      ]
     },
     "execution_count": 85,
     "metadata": {},
     "output_type": "execute_result"
    }
   ],
   "source": [
    "var4.shape"
   ]
  },
  {
   "cell_type": "markdown",
   "metadata": {},
   "source": [
    "### Data Types in NumPy Arrays\n",
    "- bool\n",
    "- int\n",
    "- float\n",
    "- string\n",
    "- complex\n",
    "\n",
    "\n",
    "\n",
    "\n"
   ]
  },
  {
   "cell_type": "code",
   "execution_count": 91,
   "metadata": {},
   "outputs": [],
   "source": [
    "# DTypes\n",
    "var = np.array([1,2,3,4,5])"
   ]
  },
  {
   "cell_type": "code",
   "execution_count": 93,
   "metadata": {},
   "outputs": [
    {
     "data": {
      "text/plain": [
       "dtype('int32')"
      ]
     },
     "execution_count": 93,
     "metadata": {},
     "output_type": "execute_result"
    }
   ],
   "source": [
    "var.dtype"
   ]
  },
  {
   "cell_type": "code",
   "execution_count": 98,
   "metadata": {},
   "outputs": [
    {
     "data": {
      "text/plain": [
       "dtype('<U6')"
      ]
     },
     "execution_count": 98,
     "metadata": {},
     "output_type": "execute_result"
    }
   ],
   "source": [
    "var = np.array([\"2\",\"4\",\"4\",\"45\",\"4646\",\"rpuesh\", \"r\"])\n",
    "var.dtype"
   ]
  },
  {
   "cell_type": "code",
   "execution_count": 100,
   "metadata": {},
   "outputs": [
    {
     "data": {
      "text/plain": [
       "dtype('<U11')"
      ]
     },
     "execution_count": 100,
     "metadata": {},
     "output_type": "execute_result"
    }
   ],
   "source": [
    "var = np.array([1,2,2,'3'])\n",
    "var.dtype"
   ]
  },
  {
   "cell_type": "code",
   "execution_count": 105,
   "metadata": {},
   "outputs": [
    {
     "name": "stdout",
     "output_type": "stream",
     "text": [
      "int8\n"
     ]
    }
   ],
   "source": [
    "# Data types as function \n",
    "x = np.array([1,2,3,4] , dtype= np.int8)\n",
    "print(x.dtype)\n"
   ]
  },
  {
   "cell_type": "code",
   "execution_count": 106,
   "metadata": {},
   "outputs": [
    {
     "name": "stdout",
     "output_type": "stream",
     "text": [
      "float32\n"
     ]
    }
   ],
   "source": [
    "x = np.array([1,2,3,4] , dtype='f')\n",
    "print(x.dtype)\n"
   ]
  },
  {
   "cell_type": "code",
   "execution_count": 107,
   "metadata": {},
   "outputs": [
    {
     "name": "stdout",
     "output_type": "stream",
     "text": [
      "int32\n",
      "float32\n",
      "int32\n",
      "\n",
      "[1 2 3 4]\n",
      "[1. 2. 3. 4.]\n",
      "[1 2 3 4]\n"
     ]
    }
   ],
   "source": [
    "x = np.array([1,2,3,4])\n",
    "x1 = np.float32(x)\n",
    "new = np.int_(x1)\n",
    "\n",
    "print(x.dtype)\n",
    "print(x1.dtype)\n",
    "print(new.dtype)\n",
    "print()\n",
    "\n",
    "print(x)\n",
    "print(x1)\n",
    "print(new)\n"
   ]
  },
  {
   "cell_type": "code",
   "execution_count": 110,
   "metadata": {},
   "outputs": [
    {
     "name": "stdout",
     "output_type": "stream",
     "text": [
      "[1 2 3 4]\n",
      "[1. 2. 3. 4.]\n",
      "\n",
      "int32\n",
      "float64\n"
     ]
    }
   ],
   "source": [
    "# Directly change the types\n",
    "x3 = np.array([1,2,3,4])\n",
    "\n",
    "x4 = x3.astype(float)\n",
    "print(x3)\n",
    "print(x4)\n",
    "print()\n",
    "\n",
    "print(x3.dtype)\n",
    "print(x4.dtype)\n"
   ]
  },
  {
   "cell_type": "code",
   "execution_count": 111,
   "metadata": {},
   "outputs": [
    {
     "data": {
      "text/plain": [
       "(2, 4)"
      ]
     },
     "execution_count": 111,
     "metadata": {},
     "output_type": "execute_result"
    }
   ],
   "source": [
    "# Shape and Reshaping in NumPy Arrays\n",
    "var = np.array([[1,2,3,4],[2,3,4,5]])\n",
    "var.shape"
   ]
  },
  {
   "cell_type": "code",
   "execution_count": 112,
   "metadata": {},
   "outputs": [
    {
     "data": {
      "text/plain": [
       "8"
      ]
     },
     "execution_count": 112,
     "metadata": {},
     "output_type": "execute_result"
    }
   ],
   "source": [
    "var.size"
   ]
  },
  {
   "cell_type": "code",
   "execution_count": 113,
   "metadata": {},
   "outputs": [
    {
     "name": "stdout",
     "output_type": "stream",
     "text": [
      "[[[[1 2 3 4]]]]\n"
     ]
    }
   ],
   "source": [
    "var = np.array([1,2,3,4] , ndmin=4)\n",
    "print(var)"
   ]
  },
  {
   "cell_type": "code",
   "execution_count": 114,
   "metadata": {},
   "outputs": [
    {
     "data": {
      "text/plain": [
       "4"
      ]
     },
     "execution_count": 114,
     "metadata": {},
     "output_type": "execute_result"
    }
   ],
   "source": [
    "var.ndim"
   ]
  },
  {
   "cell_type": "code",
   "execution_count": 115,
   "metadata": {},
   "outputs": [
    {
     "data": {
      "text/plain": [
       "(1, 1, 1, 4)"
      ]
     },
     "execution_count": 115,
     "metadata": {},
     "output_type": "execute_result"
    }
   ],
   "source": [
    "var.shape"
   ]
  },
  {
   "cell_type": "code",
   "execution_count": 121,
   "metadata": {},
   "outputs": [
    {
     "name": "stdout",
     "output_type": "stream",
     "text": [
      "1\n",
      "[[2 3 4 5]\n",
      " [6 6 6 9]]\n",
      "2\n"
     ]
    }
   ],
   "source": [
    "# Reshape\n",
    "var2 = np.array([2,3,4,5,6,6,6,9])\n",
    "print(var2.ndim)\n",
    "\n",
    "# var1 = var2.reshape(2,-1)\n",
    "var1 = var2.reshape(2,4)\n",
    "print(var1)\n",
    "print(var1.ndim)\n"
   ]
  },
  {
   "cell_type": "code",
   "execution_count": 126,
   "metadata": {},
   "outputs": [
    {
     "name": "stdout",
     "output_type": "stream",
     "text": [
      "1\n",
      "[[[2 3]\n",
      "  [4 5]]\n",
      "\n",
      " [[6 6]\n",
      "  [6 9]]]\n",
      "3\n"
     ]
    }
   ],
   "source": [
    "#3dim\n",
    "var2 = np.array([2,3,4,5,6,6,6,9])\n",
    "print(var2.ndim)\n",
    "\n",
    "# var1 = var2.reshape(2,-1,2)\n",
    "var1 = var2.reshape(2,2,2)\n",
    "print(var1)\n",
    "print(var1.ndim)"
   ]
  },
  {
   "cell_type": "code",
   "execution_count": 129,
   "metadata": {},
   "outputs": [
    {
     "name": "stdout",
     "output_type": "stream",
     "text": [
      "1\n",
      "[[[[2]\n",
      "   [3]]\n",
      "\n",
      "  [[4]\n",
      "   [5]]]\n",
      "\n",
      "\n",
      " [[[6]\n",
      "   [6]]\n",
      "\n",
      "  [[6]\n",
      "   [9]]]]\n",
      "4\n"
     ]
    }
   ],
   "source": [
    "#Multiple Dimension\n",
    "var2 = np.array([2,3,4,5,6,6,6,9])\n",
    "print(var2.ndim)\n",
    "\n",
    "# var1 = var2.reshape(2,-1,2)\n",
    "var1 = var2.reshape(2,-1,2,1)\n",
    "print(var1)\n",
    "print(var1.ndim)"
   ]
  },
  {
   "cell_type": "markdown",
   "metadata": {},
   "source": [
    "# Arithmetic Operation in NumPy Arrays"
   ]
  },
  {
   "cell_type": "markdown",
   "metadata": {},
   "source": [
    "- a+b : np.add(a,b)\n",
    "- a-b : np.subtract(a,b)\n",
    "- a*b : np.multiply(a,b)\n",
    "- a/b : np.divide(a,b)\n",
    "- a%b : np.mod(a,b)\n",
    "- a**b : np.power(a,b)\n",
    "- 1/a : np.reciprocal(a,b)"
   ]
  },
  {
   "cell_type": "code",
   "execution_count": 140,
   "metadata": {},
   "outputs": [
    {
     "name": "stdout",
     "output_type": "stream",
     "text": [
      "[4 5 6 7]\n",
      "\n",
      "[4 5 6 7]\n"
     ]
    }
   ],
   "source": [
    "# Addition\n",
    "import numpy as np\n",
    "var = np.array([1,2,3,4])\n",
    "varAdd = var+3\n",
    "print(varAdd)\n",
    "print()\n",
    "varAdd1  = np.add(var,3)\n",
    "print(varAdd1)"
   ]
  },
  {
   "cell_type": "code",
   "execution_count": 141,
   "metadata": {},
   "outputs": [
    {
     "name": "stdout",
     "output_type": "stream",
     "text": [
      "[2 4 6 8]\n",
      "\n",
      "[2 4 6 8]\n"
     ]
    }
   ],
   "source": [
    "import numpy as np\n",
    "var1 = np.array([1,2,3,4])\n",
    "var2 = np.array([1,2,3,4])\n",
    "\n",
    "varAdd = var1 + var2\n",
    "print(varAdd)\n",
    "print()\n",
    "varAdd1  = np.add(var1,var2)\n",
    "print(varAdd1)"
   ]
  },
  {
   "cell_type": "code",
   "execution_count": 144,
   "metadata": {},
   "outputs": [
    {
     "name": "stdout",
     "output_type": "stream",
     "text": [
      "[ 3  6  9 12]\n",
      "\n",
      "\n",
      "[ 1  4  9 16]\n",
      "\n",
      "[ 1  4  9 16]\n"
     ]
    }
   ],
   "source": [
    "# Multiplication\n",
    "import numpy as np\n",
    "var = np.array([1,2,3,4])\n",
    "varAdd = var*3\n",
    "print(varAdd)\n",
    "print()\n",
    "varAdd1 = np.multiply(var,3)\n",
    "\n",
    "print()\n",
    "\n",
    "var1 = np.array([1,2,3,4])\n",
    "var2 = np.array([1,2,3,4])\n",
    "\n",
    "varAdd = var1 * var2\n",
    "print(varAdd)\n",
    "print()\n",
    "varAdd1  = np.multiply(var1,var2)\n",
    "print(varAdd1)"
   ]
  },
  {
   "cell_type": "code",
   "execution_count": 145,
   "metadata": {},
   "outputs": [
    {
     "name": "stdout",
     "output_type": "stream",
     "text": [
      "[-2 -1  0  1]\n",
      "\n",
      "\n",
      "[0 0 0 0]\n",
      "\n",
      "[0 0 0 0]\n"
     ]
    }
   ],
   "source": [
    "# Subtraction\n",
    "# Multiplication\n",
    "import numpy as np\n",
    "var = np.array([1,2,3,4])\n",
    "varAdd = var-3\n",
    "print(varAdd)\n",
    "print()\n",
    "varAdd1 = np.multiply(var,3)\n",
    "\n",
    "print()\n",
    "\n",
    "var1 = np.array([1,2,3,4])\n",
    "var2 = np.array([1,2,3,4])\n",
    "\n",
    "varAdd = var1 - var2\n",
    "print(varAdd)\n",
    "print()\n",
    "varAdd1  = np.subtract(var1,var2)\n",
    "print(varAdd1)"
   ]
  },
  {
   "cell_type": "code",
   "execution_count": 148,
   "metadata": {},
   "outputs": [
    {
     "name": "stdout",
     "output_type": "stream",
     "text": [
      "[0.33333333 0.66666667 1.         1.33333333]\n",
      "\n",
      "[0.33333333 0.66666667 1.         1.33333333]\n",
      "[1. 1. 1. 1.]\n",
      "\n",
      "[1. 1. 1. 1.]\n"
     ]
    }
   ],
   "source": [
    "# Division\n",
    "import numpy as np\n",
    "var = np.array([1,2,3,4])\n",
    "varAdd = var/3\n",
    "print(varAdd)\n",
    "print()\n",
    "varAdd1 = np.divide(var,3)\n",
    "\n",
    "print(varAdd1)\n",
    "\n",
    "var1 = np.array([1,2,3,4])\n",
    "var2 = np.array([1,2,3,4])\n",
    "\n",
    "varAdd = var1 / var2\n",
    "print(varAdd)\n",
    "print()\n",
    "varAdd1  = np.divide(var1,var2)\n",
    "print(varAdd1)"
   ]
  },
  {
   "cell_type": "code",
   "execution_count": 149,
   "metadata": {},
   "outputs": [
    {
     "name": "stdout",
     "output_type": "stream",
     "text": [
      "[1 2 0 1]\n",
      "\n",
      "[1 2 0 1]\n",
      "[0 0 0 0]\n",
      "\n",
      "[ 1  4  9 16]\n"
     ]
    }
   ],
   "source": [
    "# Modulo\n",
    "import numpy as np\n",
    "var = np.array([1,2,3,4])\n",
    "varAdd = var%3\n",
    "print(varAdd)\n",
    "print()\n",
    "varAdd1 = np.mod(var,3)\n",
    "\n",
    "print(varAdd1)\n",
    "\n",
    "var1 = np.array([1,2,3,4])\n",
    "var2 = np.array([1,2,3,4])\n",
    "\n",
    "varAdd = var1 % var2\n",
    "print(varAdd)\n",
    "print()\n",
    "varAdd1  = np.multiply(var1,var2)\n",
    "print(varAdd1)"
   ]
  },
  {
   "cell_type": "code",
   "execution_count": 150,
   "metadata": {},
   "outputs": [
    {
     "name": "stdout",
     "output_type": "stream",
     "text": [
      "[ 1  8 27 64]\n",
      "\n",
      "[ 1  8 27 64]\n",
      "[  1   4  27 256]\n",
      "\n",
      "[  1   4  27 256]\n"
     ]
    }
   ],
   "source": [
    "# Power\n",
    "import numpy as np\n",
    "var = np.array([1,2,3,4])\n",
    "varAdd = var**3\n",
    "print(varAdd)\n",
    "print()\n",
    "varAdd1 = np.power(var,3)\n",
    "\n",
    "print(varAdd1)\n",
    "\n",
    "var1 = np.array([1,2,3,4])\n",
    "var2 = np.array([1,2,3,4])\n",
    "\n",
    "varAdd = var1 ** var2\n",
    "print(varAdd)\n",
    "print()\n",
    "varAdd1  = np.power(var1,var2)\n",
    "print(varAdd1)"
   ]
  },
  {
   "cell_type": "code",
   "execution_count": 159,
   "metadata": {},
   "outputs": [
    {
     "name": "stdout",
     "output_type": "stream",
     "text": [
      "[1.         0.5        0.33333333 0.25      ]\n",
      "\n",
      "[1 0 0 0]\n",
      "[1.         0.5        0.33333333 0.25      ]\n",
      "\n",
      "[1 0 0 0]\n"
     ]
    }
   ],
   "source": [
    "# reciprocal\n",
    "import numpy as np\n",
    "var = np.array([1,2,3,4])\n",
    "varAdd = 1/var\n",
    "print(varAdd)\n",
    "print()\n",
    "varAdd1 = np.reciprocal(var)\n",
    "\n",
    "print(varAdd1)\n",
    "\n",
    "var1 = np.array([1,2,3,4])\n",
    "var2 = np.array([1,2,3,4])\n",
    "\n",
    "varAdd = 1 / var1\n",
    "print(varAdd)\n",
    "print()\n",
    "varAdd1  = np.reciprocal(var1)\n",
    "print(varAdd1)"
   ]
  },
  {
   "cell_type": "code",
   "execution_count": 161,
   "metadata": {},
   "outputs": [],
   "source": [
    "# similarly can apply the same on 2d and 3d or multiple arr"
   ]
  },
  {
   "cell_type": "markdown",
   "metadata": {},
   "source": [
    "Other Arithmetic Function\n",
    " - np.min(x)\n",
    " - np.max(x)\n",
    " - np.argmin(x) - position of min and max argmax\n",
    " - np.sqrt(x)\n",
    " - np.sin(x)\n",
    " - np.cos(x)\n",
    " - np.cumsum(x)"
   ]
  },
  {
   "cell_type": "code",
   "execution_count": 172,
   "metadata": {},
   "outputs": [
    {
     "name": "stdout",
     "output_type": "stream",
     "text": [
      "min value :  4 position of min value 6\n",
      "min value :  34 Position of max value 3\n"
     ]
    }
   ],
   "source": [
    "# 1D\n",
    "var = np.array([5,12,15,34,5,5,4])\n",
    "print(\"min value : \" ,np.min(var) , \"position of min value\" , np.argmin(var))\n",
    "print(\"min value : \" ,np.max(var) , \"Position of max value\" , np.argmax(var))"
   ]
  },
  {
   "cell_type": "code",
   "execution_count": 174,
   "metadata": {},
   "outputs": [
    {
     "name": "stdout",
     "output_type": "stream",
     "text": [
      "min value :  [1 3 2 5] and  [1 2] [3 1]\n",
      "max value :  [6 7 6 7] and  [7 7] [0 0 1 1]\n"
     ]
    }
   ],
   "source": [
    "# 2D array..\n",
    "var = np.array([[1,3,6,7],[6,7,2,5]])\n",
    "print(\"min value : \" , np.min(var , axis=0) ,\"and \" , np.min(var ,axis=1) , np.argmax(var , axis=1))\n",
    "print(\"max value : \" , np.max(var , axis=0) ,\"and \" , np.max(var ,axis=1) , np.argmin(var,axis=0))"
   ]
  },
  {
   "cell_type": "code",
   "execution_count": 186,
   "metadata": {},
   "outputs": [
    {
     "name": "stdout",
     "output_type": "stream",
     "text": [
      "[[ 1  3  6  7]\n",
      " [ 7 10  8 12]]\n",
      "\n",
      "[[ 1  4 10 17]\n",
      " [ 6 13 15 20]]\n",
      "\n",
      "[ 1  3  6 10 15]\n",
      "\n",
      "[  1   2   6  24 120]\n",
      "\n",
      "[1.         1.41421356 1.73205081 2.         2.23606798]\n",
      "\n",
      "[ 0.84147098  0.90929743  0.14112001 -0.7568025  -0.95892427]\n",
      "\n",
      "[ 0.54030231 -0.41614684 -0.9899925  -0.65364362  0.28366219]\n"
     ]
    }
   ],
   "source": [
    "# com sum\n",
    "print(np.cumsum(var , axis=0) )\n",
    "print()\n",
    "print(np.cumsum(var , axis=1) )\n",
    "print()\n",
    "\n",
    "arr = np.array([1,2,3,4,5])\n",
    "print(np.cumsum(arr))\n",
    "print()\n",
    "\n",
    "arr = np.array([1,2,3,4,5])\n",
    "print(np.cumprod(arr))\n",
    "\n",
    "print()\n",
    "\n",
    "arr = np.array([1,2,3,4,5])\n",
    "print(np.sqrt(arr))\n",
    "\n",
    "print()\n",
    "arr = np.array([1,2,3,4,5])\n",
    "print(np.sin(arr))\n",
    "\n",
    "print()\n",
    "arr = np.array([1,2,3,4,5])\n",
    "print(np.cos(arr))"
   ]
  },
  {
   "cell_type": "code",
   "execution_count": null,
   "metadata": {},
   "outputs": [],
   "source": [
    "# BroadCasting NumPy Arrays\n",
    "# 1 Dimension should be same then only perform BroadCasting\n",
    "# or should one dimension same 1X3 and 3X1 will perform \n"
   ]
  },
  {
   "cell_type": "code",
   "execution_count": 190,
   "metadata": {},
   "outputs": [
    {
     "name": "stdout",
     "output_type": "stream",
     "text": [
      "(1, 3)\n",
      "\n",
      "(3, 1)\n",
      "\n",
      "[[2 4 5]\n",
      " [3 5 6]\n",
      " [5 7 8]]\n"
     ]
    }
   ],
   "source": [
    "arr1 = np.array([[1,3,4]])\n",
    "arr2 = np.array([[1],\n",
    "                 [2],\n",
    "                 [4]])\n",
    "\n",
    "print(arr1.shape)\n",
    "print()\n",
    "print(arr2.shape)\n",
    "print()\n",
    "print(arr1 + arr2)"
   ]
  },
  {
   "cell_type": "code",
   "execution_count": 201,
   "metadata": {},
   "outputs": [
    {
     "name": "stdout",
     "output_type": "stream",
     "text": [
      "(3, 3)\n",
      "\n",
      "(3, 1)\n",
      "\n",
      "[[2 4 5]\n",
      " [6 7 9]\n",
      " [6 7 9]]\n"
     ]
    }
   ],
   "source": [
    "arr1 = np.array([[1,3,4],[3,4,6],[2,3,5]])\n",
    "arr2 = np.array([[1],\n",
    "                 [3],[4]]\n",
    "                 )\n",
    "\n",
    "print(arr1.shape)\n",
    "print()\n",
    "print(arr2.shape)\n",
    "print()\n",
    "print(arr1 + arr2)"
   ]
  },
  {
   "cell_type": "code",
   "execution_count": 240,
   "metadata": {},
   "outputs": [
    {
     "name": "stdout",
     "output_type": "stream",
     "text": [
      "8\n",
      "7\n",
      "\n",
      "[10  6  7  8  9]\n"
     ]
    }
   ],
   "source": [
    "# Indexing NumPy Arrays and Slicing\n",
    "import numpy as np\n",
    "\n",
    "var = np.array([9,8,7,6,10])\n",
    "#               0,1,2,3\n",
    "#             -4,-3,-2,-1\n",
    "\n",
    "print(var[1])\n",
    "print(var[-3])\n",
    "\n",
    "print()\n",
    "# print(var[start: stop: step])\n",
    "print(var[::-1])\n",
    "\n",
    "# for i in var:\n",
    "#     print(i)\n",
    "\n"
   ]
  },
  {
   "cell_type": "code",
   "execution_count": 245,
   "metadata": {},
   "outputs": [
    {
     "name": "stdout",
     "output_type": "stream",
     "text": [
      "[[9 8 7]\n",
      " [4 5 6]]\n",
      "2\n",
      "\n",
      "[9 8]\n",
      "7\n",
      "7\n",
      "6\n",
      "Slicing\n",
      "[[9 8 7]\n",
      " [4 5 6]]\n"
     ]
    }
   ],
   "source": [
    "var1 = np.array([[9,8,7],\n",
    "                 [4,5,6]])\n",
    "\n",
    "print(var1)\n",
    "print(var1.ndim)\n",
    "\n",
    "print()\n",
    "\n",
    "# print(var1[0,[0,2]])\n",
    "print(var1[0,0:2])\n",
    "print(var1[0,2])\n",
    "print(var1[0,-1])\n",
    "print(var1[-1,-1])\n",
    "\n",
    "print(\"Slicing\")\n",
    "print(var1[0::1 , 0::1])\n",
    "# print(var1[start:end:step , start:end:step])\n"
   ]
  },
  {
   "cell_type": "code",
   "execution_count": 246,
   "metadata": {},
   "outputs": [
    {
     "name": "stdout",
     "output_type": "stream",
     "text": [
      "3\n",
      "(2, 2, 2)\n",
      "8\n",
      "[[1 2]\n",
      " [1 2]]\n",
      "\n",
      "[1 2]\n",
      "\n",
      "2\n",
      "sling 3d\n",
      "[[[1]]]\n"
     ]
    }
   ],
   "source": [
    "var2 = np.array([[[1,2],\n",
    "                  [1,2]],\n",
    "\n",
    "                 [[3,4],\n",
    "                  [4,5]]])\n",
    "print(var2.ndim)\n",
    "print(var2.shape)\n",
    "print(var2.size)\n",
    "\n",
    "print(var2[0])\n",
    "print()\n",
    "print(var2[0 ,1])\n",
    "print()\n",
    "print(var2[0,1,1])\n",
    "print(\"sling 3d\")\n",
    "print(var2[0:1:1 , 0:1:1 , 0:1:1])\n",
    "# print(var2[start:end:step , 0:1:1 , 0:1:1])"
   ]
  },
  {
   "cell_type": "code",
   "execution_count": 247,
   "metadata": {},
   "outputs": [],
   "source": [
    "# Iterating NumPy Arrays"
   ]
  },
  {
   "cell_type": "code",
   "execution_count": 253,
   "metadata": {},
   "outputs": [
    {
     "name": "stdout",
     "output_type": "stream",
     "text": [
      "5\n",
      "9\n",
      "8\n",
      "7\n",
      "6\n",
      "10\n",
      "other way\n",
      "5\n",
      "9\n",
      "8\n",
      "7\n",
      "6\n",
      "10\n"
     ]
    }
   ],
   "source": [
    "# Iteration in 1D array\n",
    "var1 = np.array([9,8,7,6,10])\n",
    "print(len(var1))\n",
    "for i in var1:\n",
    "    print(i)\n",
    "\n",
    "print(\"other way\")\n",
    "print(var1.size)\n",
    "for i in range(len(var1)):\n",
    "    print(var1[i])\n",
    "\n"
   ]
  },
  {
   "cell_type": "code",
   "execution_count": 270,
   "metadata": {},
   "outputs": [
    {
     "name": "stdout",
     "output_type": "stream",
     "text": [
      "9\n",
      "8\n",
      "7\n",
      "4\n",
      "5\n",
      "6\n"
     ]
    }
   ],
   "source": [
    "# Iteration in 2D array\n",
    "var2 = np.array([[9,8,7],\n",
    "                 [4,5,6]])\n",
    "# print(len(var2))\n",
    "# for i in range(len(var2)):\n",
    "#     if i==0:\n",
    "#         for j in range(len(var2[i])):\n",
    "#             print(var2[i,j])\n",
    "    \n",
    "#     else:\n",
    "#         for j in range(len(var2[i])):\n",
    "#             print(var2[i,j])\n",
    "\n",
    "\n",
    "for i in var2:\n",
    "    for j in i:\n",
    "        print(j)\n",
    "\n"
   ]
  },
  {
   "cell_type": "code",
   "execution_count": 275,
   "metadata": {},
   "outputs": [
    {
     "name": "stdout",
     "output_type": "stream",
     "text": [
      "1\n",
      "2\n",
      "1\n",
      "2\n",
      "3\n",
      "4\n",
      "4\n",
      "5\n",
      "done\n"
     ]
    }
   ],
   "source": [
    "# 3D array\n",
    "var2 = np.array([[[1,2],\n",
    "                  [1,2]],\n",
    "\n",
    "                 [[3,4],\n",
    "                  [4,5]]])\n",
    "\n",
    "# by using range:\n",
    "# for i in range(len(var2)):\n",
    "#     for j in range(len(var2[i])):\n",
    "#         for k in range(len(var2[i][j])):\n",
    "#             print(var2[i,j,k])\n",
    "\n",
    "# without using range direct\n",
    "\n",
    "for i in var2:\n",
    "    for j in i:\n",
    "        for k in j:\n",
    "            print(k)\n",
    "\n",
    "print(\"done\")"
   ]
  },
  {
   "cell_type": "code",
   "execution_count": 285,
   "metadata": {},
   "outputs": [
    {
     "name": "stdout",
     "output_type": "stream",
     "text": [
      "1\n",
      "2\n",
      "1\n",
      "2\n",
      "3\n",
      "4\n",
      "4\n",
      "5\n",
      "1.0\n",
      "2.0\n",
      "1.0\n",
      "2.0\n",
      "3.0\n",
      "4.0\n",
      "4.0\n",
      "5.0\n"
     ]
    }
   ],
   "source": [
    "# we can also iterate by using function .. nditer()\n",
    "\n",
    "var3 = np.array([[[1,2],\n",
    "                  [1,2]],\n",
    "\n",
    "                 [[3,4],\n",
    "                  [4,5]]])\n",
    "for i in np.nditer(var3):\n",
    "    print(i)\n",
    "# for i in np.nditer(var3 , flags=['buffered'], op_dtypes=[\"S\"]):\n",
    "#     print(i)\n",
    "for i in np.nditer(var3 , flags=['buffered'], op_dtypes=[\"float\"]):\n",
    "    print(i)\n"
   ]
  },
  {
   "cell_type": "code",
   "execution_count": 288,
   "metadata": {},
   "outputs": [
    {
     "name": "stdout",
     "output_type": "stream",
     "text": [
      "0 3\n",
      "1 4\n",
      "2 9\n",
      "3 2\n",
      "4 7\n",
      "Concept of ndenumerate\n",
      "(0, 0, 0) 1\n",
      "(0, 0, 1) 2\n",
      "(0, 1, 0) 1\n",
      "(0, 1, 1) 2\n",
      "(1, 0, 0) 3\n",
      "(1, 0, 1) 4\n",
      "(1, 1, 0) 4\n",
      "(1, 1, 1) 5\n"
     ]
    }
   ],
   "source": [
    "#ndenumerate function\n",
    "l=[3,4,9,2,7]\n",
    "for i , j in enumerate(l):\n",
    "    print(i,j)\n",
    "\n",
    "arr = np.array([[[1,2],\n",
    "                  [1,2]],\n",
    "\n",
    "                 [[3,4],\n",
    "                  [4,5]]])\n",
    "\n",
    "\n",
    "print(\"Concept of ndenumerate\")\n",
    "\n",
    "for i,data in np.ndenumerate(arr):\n",
    "    print(i,data)\n"
   ]
  },
  {
   "cell_type": "markdown",
   "metadata": {},
   "source": [
    "# Copy vs View in Numpy array"
   ]
  },
  {
   "cell_type": "markdown",
   "metadata": {},
   "source": [
    "- Copy:\n",
    "    - The Copy owns the data\n",
    "    - the Copy of an array is a new Array\n",
    "    - The Changes made in the copy data does not reflect in the original array\n",
    "\n",
    "- View:\n",
    "    - The view does not own the data.\n",
    "    - A view of the original array.\n",
    "    - Any changes made to the view will affect the original array, and any changes made to the original any will affect the view.    "
   ]
  },
  {
   "cell_type": "code",
   "execution_count": 295,
   "metadata": {},
   "outputs": [
    {
     "name": "stdout",
     "output_type": "stream",
     "text": [
      "original :  [2 0 5 6 7]\n",
      "copied :  [2 4 5 6 7]\n"
     ]
    }
   ],
   "source": [
    "x = np.array([2,4,5,6,7])\n",
    "co = x.copy()\n",
    "# do changes\n",
    "x[1] = 0\n",
    "\n",
    "print(\"original : \", x)\n",
    "print(\"copied : \", co)"
   ]
  },
  {
   "cell_type": "code",
   "execution_count": 297,
   "metadata": {},
   "outputs": [
    {
     "name": "stdout",
     "output_type": "stream",
     "text": [
      "original :  [  2 101   5   6   7]\n",
      "copied :  [  2 101   5   6   7]\n"
     ]
    }
   ],
   "source": [
    "x = np.array([2,4,5,6,7])\n",
    "co = x.view()\n",
    "# do changes\n",
    "x[1] = 101\n",
    "\n",
    "print(\"original : \", x)\n",
    "print(\"copied : \", co)"
   ]
  },
  {
   "cell_type": "markdown",
   "metadata": {},
   "source": [
    "# Join and Split Functions NumPy Arrays"
   ]
  },
  {
   "cell_type": "code",
   "execution_count": 304,
   "metadata": {},
   "outputs": [
    {
     "name": "stdout",
     "output_type": "stream",
     "text": [
      "[1 2 4 1 2 4 5]\n"
     ]
    }
   ],
   "source": [
    "import numpy as np\n",
    "\n",
    "var1 = np.array([1,2,4])\n",
    "var2 = np.array([1,2,4,5])\n",
    "ar = np.concatenate((var1,var2))\n",
    "print(ar)\n"
   ]
  },
  {
   "cell_type": "code",
   "execution_count": 309,
   "metadata": {},
   "outputs": [
    {
     "name": "stdout",
     "output_type": "stream",
     "text": [
      "[[1 2 1 2]\n",
      " [3 5 4 5]]\n",
      "\n",
      "[[1 2]\n",
      " [3 5]\n",
      " [1 2]\n",
      " [4 5]]\n"
     ]
    }
   ],
   "source": [
    "var1 = np.array([[1,2],\n",
    "                 [3,5]])\n",
    "\n",
    "var2 = np.array([[1,2],\n",
    "                 [4,5]])\n",
    "ar = np.concatenate((var1,var2), axis=1) # axis =0 means row wises, and axis =1 means column\n",
    "ar1 = np.concatenate((var1,var2), axis=0) # axis =0 means row wises, and axis =1 means column\n",
    "print(ar)\n",
    "print()\n",
    "print(ar1)"
   ]
  },
  {
   "cell_type": "code",
   "execution_count": 320,
   "metadata": {},
   "outputs": [
    {
     "name": "stdout",
     "output_type": "stream",
     "text": [
      "[[[1 1]\n",
      "  [2 2]\n",
      "  [4 4]\n",
      "  [5 5]]]\n"
     ]
    }
   ],
   "source": [
    "# stack Function\n",
    "var1 = np.array([1,2,4,5])\n",
    "var2 = np.array([1,2,4,5])\n",
    "\n",
    "# a_new = np.stack((var1,var2), axis=1)\n",
    "# a_new = np.hstack((var1,var2)) row\n",
    "# a_new = np.vstack((var1,var2)) column\n",
    "a_new = np.dstack((var1,var2)) # height\n",
    "# a_new = np.stack((var1,var2), axis=0)\n",
    "print(a_new)\n"
   ]
  },
  {
   "cell_type": "code",
   "execution_count": 324,
   "metadata": {},
   "outputs": [
    {
     "name": "stdout",
     "output_type": "stream",
     "text": [
      "[1 2 4 5 6 7 8 8 9]\n",
      "\n",
      "[array([1, 2]), array([4, 5]), array([6, 7]), array([8, 8]), array([9])]\n",
      "\n",
      "[1 2]\n",
      "[4 5]\n",
      "[6 7]\n",
      "[8 8]\n",
      "[9]\n"
     ]
    }
   ],
   "source": [
    "# Split Array : split the collection of array ..\n",
    "var = np.array([1,2,4,5,6,7,8,8,9])\n",
    "print(var)\n",
    "ar = np.array_split(var , 5)\n",
    "# ar = np.array_split(original arr , number of array) returns the list of arrays\n",
    "print()\n",
    "\n",
    "print(ar)\n",
    "print()\n",
    "for i in ar:\n",
    "    print(i)"
   ]
  },
  {
   "cell_type": "code",
   "execution_count": 327,
   "metadata": {},
   "outputs": [
    {
     "name": "stdout",
     "output_type": "stream",
     "text": [
      "[[1 2]\n",
      " [3 5]]\n",
      "\n",
      "[array([[1],\n",
      "       [3]]), array([[2],\n",
      "       [5]]), array([], shape=(2, 0), dtype=int32)]\n",
      "\n",
      "[[1]\n",
      " [3]]\n",
      "[[2]\n",
      " [5]]\n",
      "[]\n"
     ]
    }
   ],
   "source": [
    "var = np.array([[1,2],\n",
    "                 [3,5]])\n",
    "\n",
    "print(var)\n",
    "# ar = np.array_split(var , 3)\n",
    "ar = np.array_split(var , 3 , axis=1) # split along axis..\n",
    "# ar = np.array_split(original arr , number of array) returns the list of arrays\n",
    "print()\n",
    "\n",
    "print(ar)\n",
    "print()\n",
    "for i in ar:\n",
    "    print(i)"
   ]
  },
  {
   "cell_type": "markdown",
   "metadata": {},
   "source": [
    "# Numpy Arrays Functions(search , sort , search Sorted , Filter)"
   ]
  },
  {
   "cell_type": "code",
   "execution_count": 340,
   "metadata": {},
   "outputs": [
    {
     "name": "stdout",
     "output_type": "stream",
     "text": [
      "[4]\n",
      "(array([4], dtype=int64),)\n"
     ]
    }
   ],
   "source": [
    "# where keywords help to search\n",
    "var = np.array([1,2,3,4,5,6,2,8,2,10])\n",
    "x = np.where(var == 5) # where(write onley condition)\n",
    "for i in x:\n",
    "    print(i)\n",
    "\n",
    "print(x)"
   ]
  },
  {
   "cell_type": "code",
   "execution_count": 344,
   "metadata": {},
   "outputs": [
    {
     "name": "stdout",
     "output_type": "stream",
     "text": [
      "[1 9 9]\n"
     ]
    }
   ],
   "source": [
    "# Search Sorted Array\n",
    "var = np.array([1,2,3,4,5,6,2,8,2,10])\n",
    "# x = np.searchsorted(var ,5)\n",
    "# x = np.searchsorted(var ,5 , side = \"right\")\n",
    "x = np.searchsorted(var ,[1,8,9], side = \"right\")\n",
    "print(x)"
   ]
  },
  {
   "cell_type": "code",
   "execution_count": 345,
   "metadata": {},
   "outputs": [
    {
     "name": "stdout",
     "output_type": "stream",
     "text": [
      "[ 1  2  3  4  5  6  8 10]\n"
     ]
    }
   ],
   "source": [
    "# Sort array\n",
    "var = np.array([1,3,4,5,6,2,8,10])\n",
    "var = np.array([1,3,4,5,6,2,8,10])\n",
    "print(np.sort(var))\n",
    "# we can also sort the string by alphabet wise"
   ]
  },
  {
   "cell_type": "code",
   "execution_count": 351,
   "metadata": {},
   "outputs": [
    {
     "name": "stdout",
     "output_type": "stream",
     "text": [
      "[[1 2 1]\n",
      " [5 3 2]\n",
      " [8 6 4]]\n",
      "[[1 3 4]\n",
      " [2 5 6]\n",
      " [1 2 8]]\n"
     ]
    }
   ],
   "source": [
    "var = np.array([[1,3,4],\n",
    "                [5,6,2],\n",
    "                [8,2,1]])\n",
    "print(np.sort(var , axis=0)) # sort column wise\n",
    "print(np.sort(var , axis=1)) # sort row wise\n"
   ]
  },
  {
   "cell_type": "code",
   "execution_count": 352,
   "metadata": {},
   "outputs": [
    {
     "name": "stdout",
     "output_type": "stream",
     "text": [
      "[4]\n"
     ]
    }
   ],
   "source": [
    "# Filter Array\n",
    "var = np.array([1,3,4])\n",
    "f = [False,False,True]\n",
    "\n",
    "new_arr = var[f]\n",
    "print(new_arr) # filtered array\n"
   ]
  },
  {
   "cell_type": "markdown",
   "metadata": {},
   "source": [
    "### Function of Numpy\n",
    "- Shuffle\n",
    "- Unique\n",
    "- Resize\n",
    "- Flatten\n",
    "- Ravel\n"
   ]
  },
  {
   "cell_type": "code",
   "execution_count": 353,
   "metadata": {},
   "outputs": [
    {
     "name": "stdout",
     "output_type": "stream",
     "text": [
      "[2 4 5 1 3]\n"
     ]
    }
   ],
   "source": [
    "#  np.random.shuffle\n",
    "var = np.array([1,2,3,4,5])\n",
    "np.random.shuffle(var)\n",
    "print(var)"
   ]
  },
  {
   "cell_type": "code",
   "execution_count": 357,
   "metadata": {},
   "outputs": [
    {
     "name": "stdout",
     "output_type": "stream",
     "text": [
      "(array([1, 2, 3, 4, 5]), array([0, 1, 2, 3, 4], dtype=int64), array([1, 4, 3, 1, 2], dtype=int64))\n"
     ]
    }
   ],
   "source": [
    "# Unique\n",
    "\n",
    "var = np.array([1,2,3,4,5,3,5,2,2,2,3])\n",
    "# var1 = np.unique(var)\n",
    "# var1 = np.unique(var , return_index=True)\n",
    "var1 = np.unique(var , return_index=True , return_counts=True)\n",
    "print(var1)"
   ]
  },
  {
   "cell_type": "code",
   "execution_count": 364,
   "metadata": {},
   "outputs": [
    {
     "name": "stdout",
     "output_type": "stream",
     "text": [
      "[[1 2 3]\n",
      " [4 5 3]]\n"
     ]
    }
   ],
   "source": [
    "# Resize Function\n",
    "var = np.array([1,2,3,4,5,3,5,2,2,2,3])\n",
    "x = np.resize(var , (2,3))\n",
    "print(x)\n"
   ]
  },
  {
   "cell_type": "code",
   "execution_count": 368,
   "metadata": {},
   "outputs": [
    {
     "name": "stdout",
     "output_type": "stream",
     "text": [
      "[[1 2 3 4 5 3 5 2 2 2 3]]\n"
     ]
    }
   ],
   "source": [
    "var = np.array([1,2,3,4,5,3,5,2,2,2,3])\n",
    "# var = np.array([1,2,2,2])\n",
    "x = var.reshape(1,-1)\n",
    "print(x)"
   ]
  },
  {
   "cell_type": "code",
   "execution_count": null,
   "metadata": {},
   "outputs": [],
   "source": [
    "#flatten convert 2,3,4 Dimension to one Dimension"
   ]
  },
  {
   "cell_type": "code",
   "execution_count": 373,
   "metadata": {},
   "outputs": [
    {
     "name": "stdout",
     "output_type": "stream",
     "text": [
      "[1 3 4 5 6 2 8 2 1]\n",
      "[1 5 8 3 6 2 4 2 1]\n",
      "[1 3 4 5 6 2 8 2 1]\n"
     ]
    }
   ],
   "source": [
    "var = np.array([[1,3,4],\n",
    "                [5,6,2],\n",
    "                [8,2,1]])\n",
    "\n",
    "print(var.flatten())\n",
    "print(var.flatten(order=\"F\"))\n",
    "print(var.ravel(order=\"A\")) #F A K"
   ]
  },
  {
   "cell_type": "markdown",
   "metadata": {},
   "source": [
    "### Numpy Insertion and Deletion"
   ]
  },
  {
   "cell_type": "code",
   "execution_count": 375,
   "metadata": {},
   "outputs": [
    {
     "name": "stdout",
     "output_type": "stream",
     "text": [
      "[ 1  2 40  3  4  5  3  5  2  2  2  3]\n"
     ]
    }
   ],
   "source": [
    "var = np.array([1,2,3,4,5,3,5,2,2,2,3])\n",
    "x = np.insert(var , 2,40) # arr , position , value\n",
    "print(x)\n"
   ]
  },
  {
   "cell_type": "code",
   "execution_count": 378,
   "metadata": {},
   "outputs": [
    {
     "name": "stdout",
     "output_type": "stream",
     "text": [
      "[[1 3 4 4]\n",
      " [5 6 5 2]\n",
      " [8 2 8 1]]\n"
     ]
    }
   ],
   "source": [
    "var = np.array([[1,3,4],\n",
    "                [5,6,2],\n",
    "                [8,2,1]])\n",
    "\n",
    "# v1 = np.insert(var , 2 ,5,axis=0) # arr , index , data , axis\n",
    "# v1 = np.insert(var , 2 ,[4,5,8],axis=0) # arr , index , data , axis\n",
    "v1 = np.insert(var , 2 ,[4,5,8],axis=1) # arr , index , data , axis\n",
    "print(v1)"
   ]
  },
  {
   "cell_type": "code",
   "execution_count": 380,
   "metadata": {},
   "outputs": [
    {
     "name": "stdout",
     "output_type": "stream",
     "text": [
      "[1 2 3 4 5 3 5 2 2 2 3 6]\n"
     ]
    }
   ],
   "source": [
    "# append function append at last along axis..\n",
    "var = np.array([1,2,3,4,5,3,5,2,2,2,3])\n",
    "x = np.append(var ,6) # arr , position , value\n",
    "print(x)"
   ]
  },
  {
   "cell_type": "code",
   "execution_count": 382,
   "metadata": {},
   "outputs": [],
   "source": [
    "var = np.array([[1,3,4],\n",
    "                [5,6,2],\n",
    "                [8,2,1]])\n",
    "v1 = np.append(var , [[2,3,4]], axis =0)"
   ]
  },
  {
   "cell_type": "code",
   "execution_count": 383,
   "metadata": {},
   "outputs": [
    {
     "name": "stdout",
     "output_type": "stream",
     "text": [
      "[[1 3 4]\n",
      " [5 6 2]\n",
      " [8 2 1]\n",
      " [2 3 4]]\n"
     ]
    }
   ],
   "source": [
    "print(v1)"
   ]
  },
  {
   "cell_type": "code",
   "execution_count": 384,
   "metadata": {},
   "outputs": [
    {
     "name": "stdout",
     "output_type": "stream",
     "text": [
      "[1 3]\n"
     ]
    }
   ],
   "source": [
    "# Delete in arr\n",
    "var = np.array([1,2,3])\n",
    "x = np.delete(var ,1) # arr  index\n",
    "print(x)\n"
   ]
  },
  {
   "cell_type": "markdown",
   "metadata": {},
   "source": [
    "# Matrix in NumPy Arrays"
   ]
  },
  {
   "cell_type": "markdown",
   "metadata": {},
   "source": []
  },
  {
   "cell_type": "code",
   "execution_count": 387,
   "metadata": {},
   "outputs": [
    {
     "name": "stdout",
     "output_type": "stream",
     "text": [
      "[[1 2 3]\n",
      " [1 2 3]]\n",
      "<class 'numpy.matrix'>\n",
      "\n",
      "[[2 4 6]\n",
      " [2 4 6]]\n"
     ]
    }
   ],
   "source": [
    "# matrix addition\n",
    "var1 = np.matrix([[1,2,3],[1,2,3]])\n",
    "var2 = np.matrix([[1,2,3],[1,2,3]])\n",
    "print(var1)\n",
    "print(type(var1))\n",
    "print()\n",
    "print(var1+var2)\n"
   ]
  },
  {
   "cell_type": "code",
   "execution_count": 391,
   "metadata": {},
   "outputs": [
    {
     "name": "stdout",
     "output_type": "stream",
     "text": [
      "[[1 2]\n",
      " [1 2]]\n",
      "<class 'numpy.matrix'>\n",
      "\n",
      "[[3 6]\n",
      " [3 6]]\n",
      "\n",
      "[[3 6]\n",
      " [3 6]]\n"
     ]
    }
   ],
   "source": [
    "# matrix multiplication\n",
    "var1 = np.matrix([[1,2],[1,2]])\n",
    "var2 = np.matrix([[1,2],[1,2]])\n",
    "print(var1)\n",
    "print(type(var1))\n",
    "print()\n",
    "print(var1*var2)\n",
    "print()\n",
    "print(var1.dot(var2))\n"
   ]
  },
  {
   "cell_type": "markdown",
   "metadata": {},
   "source": [
    "# Matrix Functions in NumPY Arrays\n",
    "- Transpose\n",
    "- Swapases\n",
    "- Inverse\n",
    "- Power\n",
    "- Determinate"
   ]
  },
  {
   "cell_type": "code",
   "execution_count": 398,
   "metadata": {},
   "outputs": [
    {
     "name": "stdout",
     "output_type": "stream",
     "text": [
      "[[1 2 3]\n",
      " [5 6 7]]\n",
      "\n",
      "[[1 5]\n",
      " [2 6]\n",
      " [3 7]]\n",
      "\n",
      "[[1 5]\n",
      " [2 6]\n",
      " [3 7]]\n",
      "0 axis changing into 1 axis\n",
      "[[1 5]\n",
      " [2 6]\n",
      " [3 7]]\n"
     ]
    }
   ],
   "source": [
    "# Transpose\n",
    "var = np.matrix([[1,2,3],[5,6,7]])\n",
    "print(var)\n",
    "print()\n",
    "print(np.transpose(var))\n",
    "print()\n",
    "print(var.T)\n",
    "print(\"0 axis changing into 1 axis\")\n",
    "print(np.swapaxes(var,0,1))\n"
   ]
  },
  {
   "cell_type": "code",
   "execution_count": 401,
   "metadata": {},
   "outputs": [
    {
     "name": "stdout",
     "output_type": "stream",
     "text": [
      "[[1 2]\n",
      " [3 4]]\n",
      "\n",
      "[[1 3]\n",
      " [2 4]]\n"
     ]
    }
   ],
   "source": [
    "var2 = np.matrix([[1,2],[3,4]])\n",
    "print(var2)\n",
    "print()\n",
    "print(np.swapaxes(var2,0,1))"
   ]
  },
  {
   "cell_type": "code",
   "execution_count": 402,
   "metadata": {},
   "outputs": [
    {
     "name": "stdout",
     "output_type": "stream",
     "text": [
      "[[1 2]\n",
      " [3 4]]\n",
      "\n",
      "[[-2.   1. ]\n",
      " [ 1.5 -0.5]]\n"
     ]
    }
   ],
   "source": [
    "# Inverse Matrix - A^-1\n",
    "var3 = np.matrix([[1,2],[3,4]])\n",
    "print(var3)\n",
    "print()\n",
    "print(np.linalg.inv(var3))\n",
    "\n",
    "\n"
   ]
  },
  {
   "cell_type": "code",
   "execution_count": 408,
   "metadata": {},
   "outputs": [
    {
     "name": "stdout",
     "output_type": "stream",
     "text": [
      "[[1 2]\n",
      " [3 4]]\n",
      "\n",
      "[[ 7 10]\n",
      " [15 22]]\n",
      "[[1 2]\n",
      " [3 4]]\n",
      "[[1 0]\n",
      " [0 1]]\n",
      "[[-2.   1. ]\n",
      " [ 1.5 -0.5]]\n"
     ]
    }
   ],
   "source": [
    "# Power of Matrix\n",
    "\n",
    "var4 = np.matrix([[1,2],[3,4]])\n",
    "print(var4)\n",
    "print()\n",
    "print(np.linalg.matrix_power(var4,2)) # power = 2\n",
    "print(np.linalg.matrix_power(var4,1)) # power = 1\n",
    "print(np.linalg.matrix_power(var4,0)) # power = 0\n",
    "print(np.linalg.matrix_power(var4,-1)) # power = -1"
   ]
  },
  {
   "cell_type": "code",
   "execution_count": 411,
   "metadata": {},
   "outputs": [
    {
     "name": "stdout",
     "output_type": "stream",
     "text": [
      "[[1 2]\n",
      " [3 4]]\n",
      "\n",
      "-2.0000000000000004\n"
     ]
    }
   ],
   "source": [
    "#  Determinant of matrix...only square matix have determinant\n",
    "var4 = np.matrix([[1,2],[3,4]])\n",
    "print(var4)\n",
    "print()\n",
    "print(np.linalg.det(var4))"
   ]
  },
  {
   "cell_type": "code",
   "execution_count": null,
   "metadata": {},
   "outputs": [],
   "source": []
  }
 ],
 "metadata": {
  "kernelspec": {
   "display_name": "Python 3",
   "language": "python",
   "name": "python3"
  },
  "language_info": {
   "codemirror_mode": {
    "name": "ipython",
    "version": 3
   },
   "file_extension": ".py",
   "mimetype": "text/x-python",
   "name": "python",
   "nbconvert_exporter": "python",
   "pygments_lexer": "ipython3",
   "version": "3.11.0"
  }
 },
 "nbformat": 4,
 "nbformat_minor": 2
}
